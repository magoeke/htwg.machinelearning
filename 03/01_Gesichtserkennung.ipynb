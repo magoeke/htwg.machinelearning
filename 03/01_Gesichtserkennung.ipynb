{
 "cells": [
  {
   "cell_type": "markdown",
   "metadata": {},
   "source": [
    "# Übung 3"
   ]
  },
  {
   "cell_type": "markdown",
   "metadata": {},
   "source": [
    "## 1) Gesichtserkennung mit Naive Bayes"
   ]
  },
  {
   "cell_type": "code",
   "execution_count": 1,
   "metadata": {
    "collapsed": true
   },
   "outputs": [],
   "source": [
    "import pandas as pd\n",
    "import numpy as np\n",
    "import matplotlib as mp\n",
    "import tarfile\n",
    "import os.path\n",
    "import urllib.request\n",
    "import skimage\n",
    "import scipy as sp"
   ]
  },
  {
   "cell_type": "code",
   "execution_count": 5,
   "metadata": {
    "collapsed": true
   },
   "outputs": [],
   "source": [
    "filename = \"lfw-funneled.tgz\"\n",
    "url = \"http://vis-www.cs.umass.edu/lfw/\" + filename\n",
    "if not os.path.isfile(\"../02/\" + filename):\n",
    "    urllib.request.urlretrieve(url, filename)\n",
    "    dateDownloaded = !date\n",
    "    print(dateDownloaded)"
   ]
  },
  {
   "cell_type": "code",
   "execution_count": 6,
   "metadata": {
    "collapsed": false
   },
   "outputs": [],
   "source": [
    "tar = tarfile.open(\"../02/\" + filename)\n",
    "tar.extractall()\n",
    "tar.close()\n",
    "foldername = \"lfw_funneled\""
   ]
  },
  {
   "cell_type": "code",
   "execution_count": 7,
   "metadata": {
    "collapsed": false
   },
   "outputs": [
    {
     "data": {
      "text/plain": [
       "dict_keys(['Ariel_Sharon', 'Colin_Powell', 'Gerhard_Schroeder', 'George_W_Bush', 'Tony_Blair', 'Hugo_Chavez', 'Donald_Rumsfeld'])"
      ]
     },
     "execution_count": 7,
     "metadata": {},
     "output_type": "execute_result"
    }
   ],
   "source": [
    "persons = {}\n",
    "for personName in os.listdir(foldername):\n",
    "    current_person = foldername + \"/\" + personName\n",
    "    if os.path.isdir(current_person):\n",
    "        if len(os.listdir(current_person)) >= 70:\n",
    "               persons.update({personName: [current_person +\"/\"+item for item in os.listdir(current_person)] })\n",
    "persons.keys()"
   ]
  },
  {
   "cell_type": "code",
   "execution_count": 13,
   "metadata": {
    "collapsed": false
   },
   "outputs": [
    {
     "data": {
      "text/plain": [
       "((770, 1024), (770,), (518, 1024), (518,))"
      ]
     },
     "execution_count": 13,
     "metadata": {},
     "output_type": "execute_result"
    }
   ],
   "source": [
    "from skimage import io\n",
    "from skimage import transform\n",
    "\n",
    "resized_images = []\n",
    "resized_names = []\n",
    "resized_last_images = []\n",
    "resized_last_names = []\n",
    "\n",
    "for person_name, person in zip(persons.keys(), persons.values()):\n",
    "    path = person.copy()\n",
    "    size = (int)(len(path) * 0.6)\n",
    "    for picture_path in path:\n",
    "        picture = io.imread(picture_path,  as_grey=True)\n",
    "        picture = picture[55:195, 75:175]\n",
    "        resized_image = transform.resize(picture, (32, 32)).flatten()\n",
    "        if picture_path not in path[size:len(path)]:\n",
    "            resized_images.append(resized_image)\n",
    "            resized_names.append(person_name)\n",
    "        else:\n",
    "            resized_last_images.append(resized_image)\n",
    "            resized_last_names.append(person_name)\n",
    "\n",
    "resized_images = np.array(resized_images)\n",
    "resized_names = np.array(resized_names)\n",
    "resized_last_images = np.array(resized_last_images)\n",
    "resized_last_names = np.array(resized_last_names)\n",
    "        \n",
    "resized_images.shape, resized_names.shape, resized_last_images.shape, resized_last_names.shape"
   ]
  },
  {
   "cell_type": "code",
   "execution_count": null,
   "metadata": {
    "collapsed": true
   },
   "outputs": [],
   "source": []
  }
 ],
 "metadata": {
  "anaconda-cloud": {},
  "kernelspec": {
   "display_name": "Python [default]",
   "language": "python",
   "name": "python3"
  },
  "language_info": {
   "codemirror_mode": {
    "name": "ipython",
    "version": 3
   },
   "file_extension": ".py",
   "mimetype": "text/x-python",
   "name": "python",
   "nbconvert_exporter": "python",
   "pygments_lexer": "ipython3",
   "version": "3.5.2"
  }
 },
 "nbformat": 4,
 "nbformat_minor": 1
}
