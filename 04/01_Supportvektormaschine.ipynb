{
 "cells": [
  {
   "cell_type": "markdown",
   "metadata": {},
   "source": [
    "# Übung 4"
   ]
  },
  {
   "cell_type": "markdown",
   "metadata": {},
   "source": [
    "## 1) Klassifikation mit SVMs"
   ]
  },
  {
   "cell_type": "code",
   "execution_count": 6,
   "metadata": {
    "collapsed": true
   },
   "outputs": [],
   "source": [
    "import pandas as pd\n",
    "import numpy as np\n",
    "import matplotlib as mp\n",
    "from sklearn import datasets, svm"
   ]
  },
  {
   "cell_type": "markdown",
   "metadata": {},
   "source": [
    "### 1a) Laden der Daten und Beschreibung"
   ]
  },
  {
   "cell_type": "code",
   "execution_count": 8,
   "metadata": {
    "collapsed": false
   },
   "outputs": [],
   "source": [
    "digits = datasets.load_digits()"
   ]
  },
  {
   "cell_type": "code",
   "execution_count": 7,
   "metadata": {
    "collapsed": false
   },
   "outputs": [
    {
     "data": {
      "text/plain": [
       "\"Optical Recognition of Handwritten Digits Data Set\\n===================================================\\n\\nNotes\\n-----\\nData Set Characteristics:\\n    :Number of Instances: 5620\\n    :Number of Attributes: 64\\n    :Attribute Information: 8x8 image of integer pixels in the range 0..16.\\n    :Missing Attribute Values: None\\n    :Creator: E. Alpaydin (alpaydin '@' boun.edu.tr)\\n    :Date: July; 1998\\n\\nThis is a copy of the test set of the UCI ML hand-written digits datasets\\nhttp://archive.ics.uci.edu/ml/datasets/Optical+Recognition+of+Handwritten+Digits\\n\\nThe data set contains images of hand-written digits: 10 classes where\\neach class refers to a digit.\\n\\nPreprocessing programs made available by NIST were used to extract\\nnormalized bitmaps of handwritten digits from a preprinted form. From a\\ntotal of 43 people, 30 contributed to the training set and different 13\\nto the test set. 32x32 bitmaps are divided into nonoverlapping blocks of\\n4x4 and the number of on pixels are counted in each block. This generates\\nan input matrix of 8x8 where each element is an integer in the range\\n0..16. This reduces dimensionality and gives invariance to small\\ndistortions.\\n\\nFor info on NIST preprocessing routines, see M. D. Garris, J. L. Blue, G.\\nT. Candela, D. L. Dimmick, J. Geist, P. J. Grother, S. A. Janet, and C.\\nL. Wilson, NIST Form-Based Handprint Recognition System, NISTIR 5469,\\n1994.\\n\\nReferences\\n----------\\n  - C. Kaynak (1995) Methods of Combining Multiple Classifiers and Their\\n    Applications to Handwritten Digit Recognition, MSc Thesis, Institute of\\n    Graduate Studies in Science and Engineering, Bogazici University.\\n  - E. Alpaydin, C. Kaynak (1998) Cascading Classifiers, Kybernetika.\\n  - Ken Tang and Ponnuthurai N. Suganthan and Xi Yao and A. Kai Qin.\\n    Linear dimensionalityreduction using relevance weighted LDA. School of\\n    Electrical and Electronic Engineering Nanyang Technological University.\\n    2005.\\n  - Claudio Gentile. A New Approximate Maximal Margin Classification\\n    Algorithm. NIPS. 2000.\\n\""
      ]
     },
     "execution_count": 7,
     "metadata": {},
     "output_type": "execute_result"
    }
   ],
   "source": [
    "digits.DESCR"
   ]
  },
  {
   "cell_type": "markdown",
   "metadata": {},
   "source": [
    "Die Merkmalsvektoren (hier Bilder) sind die Zeilen der Designmatrix digits.data. Zusammenstellung einer Zufallsauswahl von 10 Bildern:"
   ]
  },
  {
   "cell_type": "code",
   "execution_count": 21,
   "metadata": {
    "collapsed": false
   },
   "outputs": [
    {
     "data": {
      "text/plain": [
       "[(2, array([  0.,   0.,   0.,   5.,  14.,  12.,   2.,   0.,   0.,   0.,   7.,\n",
       "          15.,   8.,  14.,   4.,   0.,   0.,   0.,   6.,   2.,   3.,  13.,\n",
       "           1.,   0.,   0.,   0.,   0.,   1.,  13.,   4.,   0.,   0.,   0.,\n",
       "           0.,   1.,  11.,   9.,   0.,   0.,   0.,   0.,   8.,  16.,  13.,\n",
       "           0.,   0.,   0.,   0.,   0.,   5.,  14.,  16.,  11.,   2.,   0.,\n",
       "           0.,   0.,   0.,   0.,   6.,  12.,  13.,   3.,   0.])),\n",
       " (0, array([  0.,   0.,   2.,  14.,  14.,   6.,   0.,   0.,   0.,   0.,  10.,\n",
       "          15.,  11.,  15.,   2.,   0.,   0.,   3.,  16.,   3.,   0.,  12.,\n",
       "           6.,   0.,   0.,   3.,   9.,   0.,   0.,   9.,  10.,   0.,   0.,\n",
       "          10.,  11.,   0.,   0.,   8.,  12.,   0.,   0.,   7.,  16.,   1.,\n",
       "           0.,  11.,  13.,   0.,   0.,   0.,  15.,  14.,  12.,  15.,  10.,\n",
       "           0.,   0.,   0.,   3.,  14.,  16.,  13.,   5.,   0.])),\n",
       " (1, array([  0.,   0.,   0.,   4.,  15.,  12.,   0.,   0.,   0.,   0.,   5.,\n",
       "          15.,  16.,  11.,   0.,   0.,   0.,   8.,  16.,  16.,  16.,   4.,\n",
       "           0.,   0.,   0.,  14.,  11.,  11.,  16.,   2.,   0.,   0.,   0.,\n",
       "           0.,   0.,   7.,  16.,   0.,   0.,   0.,   0.,   0.,   0.,   9.,\n",
       "          16.,   2.,   0.,   0.,   0.,   0.,   0.,   9.,  16.,   3.,   0.,\n",
       "           0.,   0.,   0.,   0.,   5.,  16.,   5.,   0.,   0.])),\n",
       " (0, array([  0.,   0.,   7.,  16.,  15.,   1.,   0.,   0.,   0.,   5.,  16.,\n",
       "          13.,  16.,   8.,   0.,   0.,   0.,   9.,  11.,   0.,   4.,  16.,\n",
       "           4.,   0.,   0.,  12.,   8.,   0.,   0.,  11.,  11.,   0.,   0.,\n",
       "          11.,   8.,   0.,   0.,   8.,  12.,   0.,   0.,   8.,  13.,   0.,\n",
       "           0.,  12.,  10.,   0.,   0.,   2.,  16.,   9.,  12.,  15.,   3.,\n",
       "           0.,   0.,   0.,   8.,  16.,  13.,   5.,   0.,   0.])),\n",
       " (2, array([  0.,   4.,  15.,  11.,   1.,   0.,   0.,   0.,   0.,   8.,  16.,\n",
       "          16.,   4.,   0.,   0.,   0.,   0.,   2.,   6.,  13.,   8.,   0.,\n",
       "           0.,   0.,   0.,   0.,   0.,   8.,   5.,   0.,   0.,   0.,   0.,\n",
       "           0.,   0.,  11.,   4.,   0.,   0.,   0.,   0.,   0.,   5.,  16.,\n",
       "           0.,   0.,   0.,   0.,   0.,   2.,  13.,  16.,  13.,  12.,   6.,\n",
       "           0.,   0.,   5.,  16.,  15.,  16.,  12.,   3.,   0.])),\n",
       " (0, array([  0.,   0.,   0.,  16.,  11.,   1.,   0.,   0.,   0.,   0.,  13.,\n",
       "          16.,  10.,   9.,   0.,   0.,   0.,   2.,  16.,  11.,   1.,  14.,\n",
       "           2.,   0.,   0.,   3.,  16.,   1.,   0.,   8.,   7.,   0.,   0.,\n",
       "           4.,  13.,   0.,   0.,   8.,   9.,   0.,   0.,   3.,  16.,   1.,\n",
       "           0.,  10.,   9.,   0.,   0.,   0.,  10.,   8.,   3.,  16.,   4.,\n",
       "           0.,   0.,   0.,   1.,  11.,  16.,  13.,   1.,   0.])),\n",
       " (6, array([  0.,   0.,   3.,  14.,   3.,   0.,   0.,   0.,   0.,   0.,  13.,\n",
       "          13.,   0.,   0.,   0.,   0.,   0.,   0.,  16.,   7.,   0.,   0.,\n",
       "           0.,   0.,   0.,   5.,  16.,   3.,   0.,   0.,   0.,   0.,   0.,\n",
       "           3.,  16.,   7.,   4.,   2.,   0.,   0.,   0.,   4.,  16.,  16.,\n",
       "          16.,  16.,   7.,   0.,   0.,   1.,  14.,  15.,   4.,  11.,  15.,\n",
       "           0.,   0.,   0.,   5.,  14.,  16.,  12.,   6.,   0.])),\n",
       " (1, array([  0.,   0.,   8.,  16.,  15.,   8.,   0.,   0.,   0.,   1.,  16.,\n",
       "          16.,  16.,   2.,   0.,   0.,   0.,   2.,  16.,  16.,  10.,   0.,\n",
       "           0.,   0.,   0.,   2.,  16.,  16.,  12.,   0.,   0.,   0.,   0.,\n",
       "           6.,  16.,  16.,  13.,   0.,   0.,   0.,   0.,   1.,  16.,  16.,\n",
       "          11.,   0.,   0.,   0.,   0.,   0.,  16.,  16.,  10.,   0.,   0.,\n",
       "           0.,   0.,   0.,   7.,  15.,  15.,   0.,   0.,   0.])),\n",
       " (5, array([  0.,   2.,  16.,  12.,  12.,  14.,   7.,   0.,   0.,   3.,  16.,\n",
       "           9.,   8.,   8.,   4.,   0.,   0.,   2.,  16.,  10.,   4.,   0.,\n",
       "           0.,   0.,   0.,   4.,  16.,  13.,  16.,   4.,   0.,   0.,   0.,\n",
       "           0.,   3.,   0.,  12.,  10.,   0.,   0.,   0.,   6.,   3.,   0.,\n",
       "           9.,  11.,   0.,   0.,   0.,  11.,  11.,   9.,  16.,   3.,   0.,\n",
       "           0.,   0.,   3.,  12.,  15.,   7.,   0.,   0.,   0.])),\n",
       " (2, array([  0.,   1.,  15.,  16.,  10.,   0.,   0.,   0.,   0.,   7.,  15.,\n",
       "          10.,  16.,   0.,   0.,   0.,   0.,   4.,  12.,   1.,  16.,   4.,\n",
       "           0.,   0.,   0.,   0.,   2.,   3.,  16.,   1.,   0.,   0.,   0.,\n",
       "           0.,   0.,   4.,  15.,   0.,   0.,   0.,   0.,   0.,   0.,  11.,\n",
       "          12.,   0.,   0.,   0.,   0.,   0.,  11.,  16.,  14.,  14.,  15.,\n",
       "           3.,   0.,   1.,  15.,  16.,  16.,  16.,  16.,   5.]))]"
      ]
     },
     "execution_count": 21,
     "metadata": {},
     "output_type": "execute_result"
    }
   ],
   "source": [
    "import random\n",
    "indexes = random.sample(range(0, len(digits.target)), 10)\n",
    "images = []\n",
    "for index in indexes:\n",
    "    images.append((digits.target[index],digits.data[index])) #(label, image)\n",
    "images"
   ]
  },
  {
   "cell_type": "markdown",
   "metadata": {},
   "source": [
    "Anzahl Bilder:"
   ]
  },
  {
   "cell_type": "code",
   "execution_count": 15,
   "metadata": {
    "collapsed": false
   },
   "outputs": [
    {
     "data": {
      "text/plain": [
       "(1797,)"
      ]
     },
     "execution_count": 15,
     "metadata": {},
     "output_type": "execute_result"
    }
   ],
   "source": [
    "digits.target.shape"
   ]
  },
  {
   "cell_type": "markdown",
   "metadata": {},
   "source": [
    "Dimension der Bilder:"
   ]
  },
  {
   "cell_type": "code",
   "execution_count": 18,
   "metadata": {
    "collapsed": false
   },
   "outputs": [
    {
     "data": {
      "text/plain": [
       "((8, 8), (64,))"
      ]
     },
     "execution_count": 18,
     "metadata": {},
     "output_type": "execute_result"
    }
   ],
   "source": [
    "digits.images[0].shape, digits.data[0].shape"
   ]
  },
  {
   "cell_type": "markdown",
   "metadata": {},
   "source": [
    "### 1b)"
   ]
  },
  {
   "cell_type": "markdown",
   "metadata": {},
   "source": [
    "Teilen Sie den Datensatz zufällig in einen nichtüberlappenden Trainings- und Testdatensatz auf, so dass ein Viertel der Daten zu Testdaten werden. Dies geschieht am Einfachsten mit der Funktion sklearn.model_selection.train_test_split()"
   ]
  },
  {
   "cell_type": "code",
   "execution_count": null,
   "metadata": {
    "collapsed": true
   },
   "outputs": [],
   "source": []
  },
  {
   "cell_type": "markdown",
   "metadata": {},
   "source": [
    "Trainieren Sie einen Supportvektor-Klassifikator (Standard in Scikit Learn ist eine 1-Norm Soft Margin SVM, bei Mehrklassenproblemen wird automatisch ein Satz von one-vs.-one-Klassifikatoren erstellt) mit einem RBF-Kern mit γ = 0.015 und einem Parameter C = 1.0."
   ]
  },
  {
   "cell_type": "code",
   "execution_count": 22,
   "metadata": {
    "collapsed": true
   },
   "outputs": [],
   "source": [
    "clf = svm.SVC(gamma=0.014, C=1.0)"
   ]
  },
  {
   "cell_type": "markdown",
   "metadata": {},
   "source": [
    "Bestimmen Sie den Anteil korrekt klassifizierter Beispiele (Korrektklassifikationsrate, Treffergenauigkeit, engl. Accuracy) im Trainings- und Testdatensatz mithilfe der Funktion SVC.score(). Underfitting liegt vor, wenn Ihr Klassifikator auf den Trainingsdatensatz eine Treffergenauigkeit von deutlich unter 100% erzielt, bei Overfitting liegt die Treffergenauigkeit auf dem Testdatensatz deutlich unter der auf dem Trainingsdatensatz. Welcher Fall liegt hier vor?"
   ]
  },
  {
   "cell_type": "code",
   "execution_count": null,
   "metadata": {
    "collapsed": true
   },
   "outputs": [],
   "source": []
  },
  {
   "cell_type": "markdown",
   "metadata": {},
   "source": [
    "Probieren Sie alternativ die SVM-Parameter γ = 0.001 und C = 100 und vergleichen Sie."
   ]
  },
  {
   "cell_type": "code",
   "execution_count": null,
   "metadata": {
    "collapsed": true
   },
   "outputs": [],
   "source": []
  },
  {
   "cell_type": "markdown",
   "metadata": {},
   "source": [
    "Wiederholen\n",
    "Sie das Experiment für einen anderen Zufallssplit in Trainings- und Testdatensatz."
   ]
  },
  {
   "cell_type": "code",
   "execution_count": null,
   "metadata": {
    "collapsed": true
   },
   "outputs": [],
   "source": []
  },
  {
   "cell_type": "markdown",
   "metadata": {},
   "source": [
    "Wie stark hängt Ihr Ergebnis von der zufälligen Teilung in Trainings- und Testdatensatz ab?"
   ]
  },
  {
   "cell_type": "code",
   "execution_count": null,
   "metadata": {
    "collapsed": true
   },
   "outputs": [],
   "source": []
  },
  {
   "cell_type": "markdown",
   "metadata": {},
   "source": [
    "## 2) Kreuzvalidierung und Modellselektion"
   ]
  },
  {
   "cell_type": "markdown",
   "metadata": {},
   "source": [
    "### 2a)"
   ]
  },
  {
   "cell_type": "code",
   "execution_count": null,
   "metadata": {
    "collapsed": true
   },
   "outputs": [],
   "source": []
  },
  {
   "cell_type": "code",
   "execution_count": null,
   "metadata": {
    "collapsed": true
   },
   "outputs": [],
   "source": []
  },
  {
   "cell_type": "code",
   "execution_count": null,
   "metadata": {
    "collapsed": true
   },
   "outputs": [],
   "source": []
  },
  {
   "cell_type": "code",
   "execution_count": null,
   "metadata": {
    "collapsed": true
   },
   "outputs": [],
   "source": []
  },
  {
   "cell_type": "code",
   "execution_count": null,
   "metadata": {
    "collapsed": true
   },
   "outputs": [],
   "source": []
  },
  {
   "cell_type": "markdown",
   "metadata": {},
   "source": [
    "## Konfiguration"
   ]
  },
  {
   "cell_type": "code",
   "execution_count": 14,
   "metadata": {
    "collapsed": false
   },
   "outputs": [
    {
     "data": {
      "application/json": {
       "Software versions": [
        {
         "module": "Python",
         "version": "3.5.2 64bit [GCC 4.4.7 20120313 (Red Hat 4.4.7-1)]"
        },
        {
         "module": "IPython",
         "version": "5.1.0"
        },
        {
         "module": "OS",
         "version": "Linux 4.2.0 27 generic x86_64 with debian jessie sid"
        },
        {
         "module": "numpy",
         "version": "1.11.1"
        },
        {
         "module": "pandas",
         "version": "0.18.1"
        },
        {
         "module": "matplotlib",
         "version": "1.5.3"
        },
        {
         "module": "skimage",
         "version": "0.12.3"
        }
       ]
      },
      "text/html": [
       "<table><tr><th>Software</th><th>Version</th></tr><tr><td>Python</td><td>3.5.2 64bit [GCC 4.4.7 20120313 (Red Hat 4.4.7-1)]</td></tr><tr><td>IPython</td><td>5.1.0</td></tr><tr><td>OS</td><td>Linux 4.2.0 27 generic x86_64 with debian jessie sid</td></tr><tr><td>numpy</td><td>1.11.1</td></tr><tr><td>pandas</td><td>0.18.1</td></tr><tr><td>matplotlib</td><td>1.5.3</td></tr><tr><td>skimage</td><td>0.12.3</td></tr><tr><td colspan='2'>Sun Dec 04 21:37:30 2016 CET</td></tr></table>"
      ],
      "text/latex": [
       "\\begin{tabular}{|l|l|}\\hline\n",
       "{\\bf Software} & {\\bf Version} \\\\ \\hline\\hline\n",
       "Python & 3.5.2 64bit [GCC 4.4.7 20120313 (Red Hat 4.4.7-1)] \\\\ \\hline\n",
       "IPython & 5.1.0 \\\\ \\hline\n",
       "OS & Linux 4.2.0 27 generic x86\\_64 with debian jessie sid \\\\ \\hline\n",
       "numpy & 1.11.1 \\\\ \\hline\n",
       "pandas & 0.18.1 \\\\ \\hline\n",
       "matplotlib & 1.5.3 \\\\ \\hline\n",
       "skimage & 0.12.3 \\\\ \\hline\n",
       "\\hline \\multicolumn{2}{|l|}{Sun Dec 04 21:37:30 2016 CET} \\\\ \\hline\n",
       "\\end{tabular}\n"
      ],
      "text/plain": [
       "Software versions\n",
       "Python 3.5.2 64bit [GCC 4.4.7 20120313 (Red Hat 4.4.7-1)]\n",
       "IPython 5.1.0\n",
       "OS Linux 4.2.0 27 generic x86_64 with debian jessie sid\n",
       "numpy 1.11.1\n",
       "pandas 0.18.1\n",
       "matplotlib 1.5.3\n",
       "skimage 0.12.3\n",
       "Sun Dec 04 21:37:30 2016 CET"
      ]
     },
     "execution_count": 14,
     "metadata": {},
     "output_type": "execute_result"
    }
   ],
   "source": [
    "%load_ext version_information\n",
    "%version_information numpy, pandas, matplotlib, skimage"
   ]
  }
 ],
 "metadata": {
  "anaconda-cloud": {},
  "kernelspec": {
   "display_name": "Python 3",
   "language": "python",
   "name": "python3"
  },
  "language_info": {
   "codemirror_mode": {
    "name": "ipython",
    "version": 3
   },
   "file_extension": ".py",
   "mimetype": "text/x-python",
   "name": "python",
   "nbconvert_exporter": "python",
   "pygments_lexer": "ipython3",
   "version": "3.5.2"
  }
 },
 "nbformat": 4,
 "nbformat_minor": 1
}
