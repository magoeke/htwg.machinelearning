{
 "cells": [
  {
   "cell_type": "markdown",
   "metadata": {},
   "source": [
    "# Übung 4"
   ]
  },
  {
   "cell_type": "markdown",
   "metadata": {},
   "source": [
    "## 1) Klassifikation mit SVMs"
   ]
  },
  {
   "cell_type": "code",
   "execution_count": 1,
   "metadata": {
    "collapsed": false
   },
   "outputs": [],
   "source": [
    "import pandas as pd\n",
    "import numpy as np\n",
    "import matplotlib as mp\n",
    "import skimage\n",
    "import scipy as sp\n",
    "from sklearn import datasets, svm, model_selection\n",
    "#from sklearn.model_selection import train_test_split\n",
    "import matplotlib.pyplot as plt"
   ]
  },
  {
   "cell_type": "markdown",
   "metadata": {},
   "source": [
    "### 1a) Laden der Daten und Beschreibung"
   ]
  },
  {
   "cell_type": "code",
   "execution_count": 2,
   "metadata": {
    "collapsed": false
   },
   "outputs": [],
   "source": [
    "digits = datasets.load_digits()"
   ]
  },
  {
   "cell_type": "code",
   "execution_count": 3,
   "metadata": {
    "collapsed": false
   },
   "outputs": [
    {
     "data": {
      "text/plain": [
       "\"Optical Recognition of Handwritten Digits Data Set\\n===================================================\\n\\nNotes\\n-----\\nData Set Characteristics:\\n    :Number of Instances: 5620\\n    :Number of Attributes: 64\\n    :Attribute Information: 8x8 image of integer pixels in the range 0..16.\\n    :Missing Attribute Values: None\\n    :Creator: E. Alpaydin (alpaydin '@' boun.edu.tr)\\n    :Date: July; 1998\\n\\nThis is a copy of the test set of the UCI ML hand-written digits datasets\\nhttp://archive.ics.uci.edu/ml/datasets/Optical+Recognition+of+Handwritten+Digits\\n\\nThe data set contains images of hand-written digits: 10 classes where\\neach class refers to a digit.\\n\\nPreprocessing programs made available by NIST were used to extract\\nnormalized bitmaps of handwritten digits from a preprinted form. From a\\ntotal of 43 people, 30 contributed to the training set and different 13\\nto the test set. 32x32 bitmaps are divided into nonoverlapping blocks of\\n4x4 and the number of on pixels are counted in each block. This generates\\nan input matrix of 8x8 where each element is an integer in the range\\n0..16. This reduces dimensionality and gives invariance to small\\ndistortions.\\n\\nFor info on NIST preprocessing routines, see M. D. Garris, J. L. Blue, G.\\nT. Candela, D. L. Dimmick, J. Geist, P. J. Grother, S. A. Janet, and C.\\nL. Wilson, NIST Form-Based Handprint Recognition System, NISTIR 5469,\\n1994.\\n\\nReferences\\n----------\\n  - C. Kaynak (1995) Methods of Combining Multiple Classifiers and Their\\n    Applications to Handwritten Digit Recognition, MSc Thesis, Institute of\\n    Graduate Studies in Science and Engineering, Bogazici University.\\n  - E. Alpaydin, C. Kaynak (1998) Cascading Classifiers, Kybernetika.\\n  - Ken Tang and Ponnuthurai N. Suganthan and Xi Yao and A. Kai Qin.\\n    Linear dimensionalityreduction using relevance weighted LDA. School of\\n    Electrical and Electronic Engineering Nanyang Technological University.\\n    2005.\\n  - Claudio Gentile. A New Approximate Maximal Margin Classification\\n    Algorithm. NIPS. 2000.\\n\""
      ]
     },
     "execution_count": 3,
     "metadata": {},
     "output_type": "execute_result"
    }
   ],
   "source": [
    "digits.DESCR"
   ]
  },
  {
   "cell_type": "markdown",
   "metadata": {},
   "source": [
    "Die Merkmalsvektoren (hier Bilder) sind die Zeilen der Designmatrix digits.data. Zusammenstellung einer Zufallsauswahl von 10 Bildern:"
   ]
  },
  {
   "cell_type": "code",
   "execution_count": 4,
   "metadata": {
    "collapsed": false
   },
   "outputs": [
    {
     "data": {
      "image/png": "[encoded data removed]",
      "text/plain": [
       "<matplotlib.figure.Figure at 0x7fe5f2a627f0>"
      ]
     },
     "metadata": {},
     "output_type": "display_data"
    }
   ],
   "source": [
    "import random\n",
    "%matplotlib inline\n",
    "fig = mp.pyplot.figure()\n",
    "indexes = random.sample(range(0, len(digits.target)), 10)\n",
    "images = []\n",
    "for i, index in zip(range(1, 11), indexes):\n",
    "    mp.pyplot.subplot(1, 10, i)\n",
    "    mp.pyplot.imshow(digits.images[index], cmap=mp.pyplot.cm.gray_r, interpolation='nearest')\n",
    "    images.append((digits.target[index],digits.data[index])) #(label, image)\n",
    "\n",
    "mp.pyplot.show()"
   ]
  },
  {
   "cell_type": "markdown",
   "metadata": {},
   "source": [
    "Anzahl Bilder:"
   ]
  },
  {
   "cell_type": "code",
   "execution_count": 5,
   "metadata": {
    "collapsed": false
   },
   "outputs": [
    {
     "data": {
      "text/plain": [
       "(1797,)"
      ]
     },
     "execution_count": 5,
     "metadata": {},
     "output_type": "execute_result"
    }
   ],
   "source": [
    "digits.target.shape"
   ]
  },
  {
   "cell_type": "markdown",
   "metadata": {},
   "source": [
    "Dimension der Bilder:"
   ]
  },
  {
   "cell_type": "code",
   "execution_count": 6,
   "metadata": {
    "collapsed": false
   },
   "outputs": [
    {
     "data": {
      "text/plain": [
       "((8, 8), (64,))"
      ]
     },
     "execution_count": 6,
     "metadata": {},
     "output_type": "execute_result"
    }
   ],
   "source": [
    "digits.images[0].shape, digits.data[0].shape"
   ]
  },
  {
   "cell_type": "markdown",
   "metadata": {},
   "source": [
    "### 1b)"
   ]
  },
  {
   "cell_type": "markdown",
   "metadata": {},
   "source": [
    "Teilen Sie den Datensatz zufällig in einen nichtüberlappenden Trainings- und Testdatensatz auf, so dass ein Viertel der Daten zu Testdaten werden. Dies geschieht am Einfachsten mit der Funktion sklearn.model_selection.train_test_split()"
   ]
  },
  {
   "cell_type": "code",
   "execution_count": 7,
   "metadata": {
    "collapsed": false
   },
   "outputs": [
    {
     "data": {
      "text/plain": [
       "((450, 64), (450,), (1347, 64), (1347,))"
      ]
     },
     "execution_count": 7,
     "metadata": {},
     "output_type": "execute_result"
    }
   ],
   "source": [
    "training_data, test_data, training_label, test_label = model_selection.train_test_split(digits.data, digits.target, test_size=0.25)\n",
    "test_data.shape, test_label.shape, training_data.shape, training_label.shape"
   ]
  },
  {
   "cell_type": "markdown",
   "metadata": {},
   "source": [
    "Trainieren Sie einen Supportvektor-Klassifikator (Standard in Scikit Learn ist eine 1-Norm Soft Margin SVM, bei Mehrklassenproblemen wird automatisch ein Satz von one-vs.-one-Klassifikatoren erstellt) mit einem RBF-Kern mit γ = 0.015 und einem Parameter C = 1.0."
   ]
  },
  {
   "cell_type": "code",
   "execution_count": 8,
   "metadata": {
    "collapsed": false
   },
   "outputs": [
    {
     "data": {
      "text/plain": [
       "SVC(C=1.0, cache_size=200, class_weight=None, coef0=0.0,\n",
       "  decision_function_shape=None, degree=3, gamma=0.015, kernel='rbf',\n",
       "  max_iter=-1, probability=False, random_state=None, shrinking=True,\n",
       "  tol=0.001, verbose=False)"
      ]
     },
     "execution_count": 8,
     "metadata": {},
     "output_type": "execute_result"
    }
   ],
   "source": [
    "clf = svm.SVC(gamma=0.015, C=1.0)\n",
    "clf.fit(training_data, training_label)"
   ]
  },
  {
   "cell_type": "markdown",
   "metadata": {},
   "source": [
    "Bestimmen Sie den Anteil korrekt klassifizierter Beispiele (Korrektklassifikationsrate, Treffergenauigkeit, engl. Accuracy) im Trainings- und Testdatensatz mithilfe der Funktion SVC.score(). Underfitting liegt vor, wenn Ihr Klassifikator auf den Trainingsdatensatz eine Treffergenauigkeit von deutlich unter 100% erzielt, bei Overfitting liegt die Treffergenauigkeit auf dem Testdatensatz deutlich unter der auf dem Trainingsdatensatz. Welcher Fall liegt hier vor?"
   ]
  },
  {
   "cell_type": "code",
   "execution_count": 9,
   "metadata": {
    "collapsed": false
   },
   "outputs": [
    {
     "name": "stdout",
     "output_type": "stream",
     "text": [
      "0.391111111111\n"
     ]
    },
    {
     "data": {
      "text/plain": [
       "1.0"
      ]
     },
     "execution_count": 9,
     "metadata": {},
     "output_type": "execute_result"
    }
   ],
   "source": [
    "expected = test_label\n",
    "predicted = clf.predict(test_data)\n",
    "\n",
    "print(clf.score(test_data, test_label))\n",
    "clf.score(training_data, training_label)\n",
    "#expected, predicted"
   ]
  },
  {
   "cell_type": "markdown",
   "metadata": {},
   "source": [
    "Es handelt sich hierbei um Overfitting. 1.0 > 0.33"
   ]
  },
  {
   "cell_type": "markdown",
   "metadata": {},
   "source": [
    "Probieren Sie alternativ die SVM-Parameter γ = 0.001 und C = 100 und vergleichen Sie."
   ]
  },
  {
   "cell_type": "code",
   "execution_count": 10,
   "metadata": {
    "collapsed": false
   },
   "outputs": [
    {
     "name": "stdout",
     "output_type": "stream",
     "text": [
      "0.991111111111\n"
     ]
    },
    {
     "data": {
      "text/plain": [
       "1.0"
      ]
     },
     "execution_count": 10,
     "metadata": {},
     "output_type": "execute_result"
    }
   ],
   "source": [
    "clf = svm.SVC(gamma=0.001, C=100)\n",
    "clf.fit(training_data, training_label)\n",
    "\n",
    "print(clf.score(test_data, test_label))\n",
    "clf.score(training_data, training_label)"
   ]
  },
  {
   "cell_type": "markdown",
   "metadata": {},
   "source": [
    "Wiederholen\n",
    "Sie das Experiment für einen anderen Zufallssplit in Trainings- und Testdatensatz."
   ]
  },
  {
   "cell_type": "code",
   "execution_count": 11,
   "metadata": {
    "collapsed": false
   },
   "outputs": [
    {
     "name": "stdout",
     "output_type": "stream",
     "text": [
      "0.445505617978\n"
     ]
    },
    {
     "data": {
      "text/plain": [
       "1.0"
      ]
     },
     "execution_count": 11,
     "metadata": {},
     "output_type": "execute_result"
    }
   ],
   "source": [
    "r_training_data, r_test_data, r_training_label, r_test_label = model_selection.train_test_split(digits.data, digits.target, test_size=0.99)\n",
    "\n",
    "clf = svm.SVC(gamma=0.001, C=100)\n",
    "clf.fit(r_training_data, r_training_label)\n",
    "\n",
    "print(clf.score(r_test_data, r_test_label))\n",
    "clf.score(r_training_data, r_training_label)"
   ]
  },
  {
   "cell_type": "markdown",
   "metadata": {},
   "source": [
    "Wie stark hängt Ihr Ergebnis von der zufälligen Teilung in Trainings- und Testdatensatz ab?"
   ]
  },
  {
   "cell_type": "markdown",
   "metadata": {
    "collapsed": true
   },
   "source": [
    "Es hängt sehr wenig davon ab, da schon wenige Trainingsdaten für ein gutes Ergebnis reichen."
   ]
  },
  {
   "cell_type": "markdown",
   "metadata": {},
   "source": [
    "## 2) Kreuzvalidierung und Modellselektion"
   ]
  },
  {
   "cell_type": "markdown",
   "metadata": {},
   "source": [
    "### 2a)"
   ]
  },
  {
   "cell_type": "markdown",
   "metadata": {
    "collapsed": true
   },
   "source": [
    "Bei der Methode der Kreuzvalidierung wird der zufällige Split in Trainings- und Testdatensatz aus Aufgabe 1 mehrere Male wiederholt und der Durchschnitt über mehrere Splits berechnet, um eine genauere Schätzung der wirklichen Treffergenauigkeit zu erhalten. Scikit Learn stellt dafür bereits eine vordefinierte Methode zur Verfügung: sklearn.model_selection.ShuffleSplit(). Die Methode verwendet die Iteratorsyntax von Python, Beispiele zur Verwendung finden Sie in der Dokumentation dieser Methode. ShuffleSplit() erzeugt einen Satz von permutierten Indizes von Trainings- und Testdaten. Erzeugen Sie zunächst 3 Sätze und trainieren Sie für jeden Satz eine SVM mit γ = 0.001 und C = 1 und geben Sie jeweils die Treffergenauigkeit für Trainings- und Testdatensatz aus. Die Ergebnisse sollten ähnlich wie in Aufgabe 1b aussehen."
   ]
  },
  {
   "cell_type": "code",
   "execution_count": 12,
   "metadata": {
    "collapsed": false
   },
   "outputs": [
    {
     "name": "stdout",
     "output_type": "stream",
     "text": [
      "Test  0.995555555556\n",
      "Training  0.999257609503\n",
      "Test  0.995555555556\n",
      "Training  0.998515219005\n",
      "Test  0.993333333333\n",
      "Training  0.999257609503\n"
     ]
    },
    {
     "data": {
      "text/plain": [
       "(0.99481481481481471, 0.99901014600346449)"
      ]
     },
     "execution_count": 12,
     "metadata": {},
     "output_type": "execute_result"
    }
   ],
   "source": [
    "split_number = 3\n",
    "rs = model_selection.ShuffleSplit(n_splits=split_number, test_size=.25, random_state=0)\n",
    "\n",
    "training_mean = 0\n",
    "test_mean = 0\n",
    "\n",
    "for training_indexes, test_indexes in rs.split(digits.data):\n",
    "    t_test_data = []\n",
    "    t_test_label = []\n",
    "    t_training_data = []\n",
    "    t_training_label = []\n",
    "    for test_index in test_indexes:\n",
    "        t_test_data.append(digits.data[test_index])\n",
    "        t_test_label.append(digits.target[test_index])\n",
    "        \n",
    "    for training_index in training_indexes:\n",
    "        t_training_data.append(digits.data[training_index])\n",
    "        t_training_label.append(digits.target[training_index])\n",
    "        \n",
    "    clf = svm.SVC(gamma=0.001, C=1.0)\n",
    "    clf.fit(t_training_data, t_training_label)\n",
    "    test_score = clf.score(t_test_data, t_test_label)\n",
    "    training_score = clf.score(t_training_data, t_training_label)\n",
    "    \n",
    "    test_mean += test_score\n",
    "    training_mean += training_score\n",
    "    print(\"Test \", test_score)\n",
    "    print(\"Training \", training_score)\n",
    "    \n",
    "test_mean/split_number, training_mean/split_number"
   ]
  },
  {
   "cell_type": "markdown",
   "metadata": {
    "collapsed": true
   },
   "source": [
    "### 2b)"
   ]
  },
  {
   "cell_type": "markdown",
   "metadata": {
    "collapsed": true
   },
   "source": [
    "Statt wie in 2a von Hand vorzugehen gibt es in Scikit Learn die bereits vordefinierte\n",
    "Methode sklearn.model_selection.cross_val_score(). Wiederholen Sie Ihr Experiment\n",
    "aus Aufgabe 2a mit 10 Zufallssplits und geben Sie jeweils die Treffergenauigkeit auf dem\n",
    "Testdatensatz aus. Berechnen Sie die mittlere Treffergenauigkeit (die Kreuzvalidierungs-\n",
    "genauigkeit) und die Standardabweichung des Mittelwerts."
   ]
  },
  {
   "cell_type": "code",
   "execution_count": 13,
   "metadata": {
    "collapsed": false,
    "scrolled": true
   },
   "outputs": [
    {
     "data": {
      "text/plain": [
       "([array([ 0.98039216,  0.98      ,  0.97278912]),\n",
       "  array([ 0.96753247,  0.97986577,  0.96598639]),\n",
       "  array([ 0.98013245,  0.97350993,  0.97972973]),\n",
       "  array([ 0.97368421,  0.98666667,  0.9527027 ]),\n",
       "  array([ 0.96078431,  0.94      ,  0.96598639]),\n",
       "  array([ 0.98039216,  0.97333333,  0.97959184]),\n",
       "  array([ 0.97402597,  0.94666667,  0.97260274]),\n",
       "  array([ 0.99346405,  0.93288591,  0.95945946]),\n",
       "  array([ 0.98039216,  0.96666667,  0.97278912]),\n",
       "  array([ 0.97368421,  0.98      ,  0.95945946])],\n",
       " [array([ 0.98893805,  0.99109131,  0.99103139]),\n",
       "  array([ 0.98675497,  0.99111111,  0.97972973]),\n",
       "  array([ 0.99115044,  0.99109131,  0.98430493]),\n",
       "  array([ 0.99115044,  0.984375  ,  0.99105145]),\n",
       "  array([ 0.98451327,  0.98886414,  0.97982063]),\n",
       "  array([ 0.99113082,  0.99109131,  0.97986577]),\n",
       "  array([ 0.99337748,  0.98666667,  0.99099099]),\n",
       "  array([ 0.98893805,  0.98444444,  0.97752809]),\n",
       "  array([ 0.98230088,  0.98886414,  0.99327354]),\n",
       "  array([ 0.99113082,  0.9844098 ,  0.98657718])],\n",
       " 0.97017253475747534,\n",
       " 0.98751894005202834)"
      ]
     },
     "execution_count": 13,
     "metadata": {},
     "output_type": "execute_result"
    }
   ],
   "source": [
    "split_number = 10\n",
    "rs = model_selection.ShuffleSplit(n_splits=split_number, test_size=.25, random_state=0)\n",
    "\n",
    "training_mean = 0\n",
    "test_mean = 0\n",
    "\n",
    "test_scores = []\n",
    "training_scores = []\n",
    "\n",
    "for training_indexes, test_indexes in rs.split(digits.data):\n",
    "    t_test_data = []\n",
    "    t_test_label = []\n",
    "    t_training_data = []\n",
    "    t_training_label = []\n",
    "    for test_index in test_indexes:\n",
    "        t_test_data.append(digits.data[test_index])\n",
    "        t_test_label.append(digits.target[test_index])\n",
    "        \n",
    "    for training_index in training_indexes:\n",
    "        t_training_data.append(digits.data[training_index])\n",
    "        t_training_label.append(digits.target[training_index])\n",
    "        \n",
    "    clf = svm.SVC(gamma=0.001, C=1.0)\n",
    "    training_score = model_selection.cross_val_score(clf, t_training_data, t_training_label)\n",
    "    test_score = model_selection.cross_val_score(clf, t_test_data, t_test_label)\n",
    "    #clf.fit(t_training_data, t_training_label)\n",
    "    #test_score = clf.score(t_test_data, t_test_label)\n",
    "    #training_score = clf.score(t_training_data, t_training_label)\n",
    "    \n",
    "    test_mean += test_score[0]+test_score[1]+test_score[2]\n",
    "    training_mean += training_score[0]+training_score[1]+training_score[2]\n",
    "    test_scores.append(test_score)\n",
    "    training_scores.append(training_score)\n",
    "    \n",
    "test_mean = test_mean/(split_number*3)\n",
    "training_mean = training_mean/(split_number*3)\n",
    "test_scores, training_scores, test_mean, training_mean"
   ]
  },
  {
   "cell_type": "markdown",
   "metadata": {},
   "source": [
    "Die Standardabweichung des Mittelwerts ist:"
   ]
  },
  {
   "cell_type": "code",
   "execution_count": 14,
   "metadata": {
    "collapsed": false
   },
   "outputs": [
    {
     "data": {
      "text/plain": [
       "(0.013297714715119908, 0.0043655035711247757)"
      ]
     },
     "execution_count": 14,
     "metadata": {},
     "output_type": "execute_result"
    }
   ],
   "source": [
    "test_std = np.std(test_scores)\n",
    "training_std = np.std(training_scores)\n",
    "test_std, training_std"
   ]
  },
  {
   "cell_type": "markdown",
   "metadata": {},
   "source": [
    "### 2c) "
   ]
  },
  {
   "cell_type": "markdown",
   "metadata": {},
   "source": [
    "Mithilfe der Kreuzvalidierungsgenauigkeit können die optimalen γ- und C-Parameter der SVM automatisch gefunden werden. Dieser Vorgang heißt Modellselektion. Man führt zu diesem Zweck eine Gittersuche durch: zunächst wird ein Satz von Werten für γ und C festgelegt. Für alle Wertepaare wird die Kreuzvalidierungsgenauigkeit bestimmt und dann die Parameter gewählt, die die höchste Treffergenauigkeit erzielen. Finden Sie auf diese Weise für C = 10 den besten Gammawert aus einem Satz von 10 logarithmisch skalierten Gammawerten, erzeugt mit\n",
    "\n",
    "    gammas = np . logspace ( -7 , -1 , 10)\n",
    "\n",
    "Verwenden Sie dazu eine Trainings- und Testdatensatzgröße von 500 und 5 Splits (s. Dokumentation von ShuffleSplit) und speichern Sie die Treffergenauigkeit auf dem Trainingsund Testdatensatz für jeden Gammawert und Split."
   ]
  },
  {
   "cell_type": "code",
   "execution_count": 15,
   "metadata": {
    "collapsed": false
   },
   "outputs": [
    {
     "data": {
      "text/plain": [
       "(array([  1.00000000e-07,   4.64158883e-07,   2.15443469e-06,\n",
       "          1.00000000e-05,   4.64158883e-05,   2.15443469e-04,\n",
       "          1.00000000e-03,   4.64158883e-03,   2.15443469e-02,\n",
       "          1.00000000e-01]),\n",
       " [array([ 0.11242604,  0.11309524,  0.22699387]),\n",
       "  array([ 0.11242604,  0.11309524,  0.22699387]),\n",
       "  array([ 0.72189349,  0.79761905,  0.7791411 ]),\n",
       "  array([ 0.94674556,  0.95238095,  0.93251534]),\n",
       "  array([ 0.95857988,  0.96428571,  0.95705521]),\n",
       "  array([ 0.9704142 ,  0.96428571,  0.97546012]),\n",
       "  array([ 0.9704142 ,  0.98214286,  0.98773006]),\n",
       "  array([ 0.91715976,  0.89285714,  0.87116564]),\n",
       "  array([ 0.11242604,  0.14285714,  0.17791411]),\n",
       "  array([ 0.11242604,  0.11309524,  0.14110429]),\n",
       "  array([ 0.11764706,  0.11904762,  0.11728395]),\n",
       "  array([ 0.11764706,  0.11904762,  0.11728395]),\n",
       "  array([ 0.75294118,  0.76190476,  0.75925926]),\n",
       "  array([ 0.90588235,  0.92857143,  0.91975309]),\n",
       "  array([ 0.95294118,  0.96428571,  0.95679012]),\n",
       "  array([ 0.96470588,  0.98809524,  0.9691358 ]),\n",
       "  array([ 0.97058824,  0.98809524,  0.95679012]),\n",
       "  array([ 0.91176471,  0.94642857,  0.88888889]),\n",
       "  array([ 0.18823529,  0.14880952,  0.16666667]),\n",
       "  array([ 0.11764706,  0.11904762,  0.11728395]),\n",
       "  array([ 0.11764706,  0.11976048,  0.12269939]),\n",
       "  array([ 0.11764706,  0.11976048,  0.12269939]),\n",
       "  array([ 0.74117647,  0.74850299,  0.73006135]),\n",
       "  array([ 0.92352941,  0.93413174,  0.96319018]),\n",
       "  array([ 0.95882353,  0.97005988,  0.98159509]),\n",
       "  array([ 0.96470588,  0.99401198,  0.99386503]),\n",
       "  array([ 0.98235294,  0.98802395,  0.98773006]),\n",
       "  array([ 0.91176471,  0.89221557,  0.9202454 ]),\n",
       "  array([ 0.15294118,  0.15568862,  0.14723926]),\n",
       "  array([ 0.11764706,  0.11976048,  0.12269939]),\n",
       "  array([ 0.1183432 ,  0.11904762,  0.11656442]),\n",
       "  array([ 0.1183432 ,  0.11904762,  0.11656442]),\n",
       "  array([ 0.66863905,  0.73809524,  0.71165644]),\n",
       "  array([ 0.9408284 ,  0.94642857,  0.95092025]),\n",
       "  array([ 0.96449704,  0.98809524,  0.95092025]),\n",
       "  array([ 0.97633136,  0.98809524,  0.95705521]),\n",
       "  array([ 0.97633136,  0.99404762,  0.95705521]),\n",
       "  array([ 0.87573964,  0.86904762,  0.85276074]),\n",
       "  array([ 0.13609467,  0.14880952,  0.12269939]),\n",
       "  array([ 0.1183432 ,  0.11904762,  0.11656442]),\n",
       "  array([ 0.12352941,  0.12650602,  0.12804878]),\n",
       "  array([ 0.12352941,  0.12650602,  0.12804878]),\n",
       "  array([ 0.60588235,  0.63253012,  0.6402439 ]),\n",
       "  array([ 0.94705882,  0.92771084,  0.92073171]),\n",
       "  array([ 0.96470588,  0.92771084,  0.95731707]),\n",
       "  array([ 0.98235294,  0.93373494,  0.95121951]),\n",
       "  array([ 0.98235294,  0.96987952,  0.98170732]),\n",
       "  array([ 0.78823529,  0.81927711,  0.87195122]),\n",
       "  array([ 0.12352941,  0.12650602,  0.13414634]),\n",
       "  array([ 0.12352941,  0.12650602,  0.12804878])],\n",
       " [array([ 0.10526316,  0.3062645 ,  0.1048951 ]),\n",
       "  array([ 0.39588101,  0.44779582,  0.39160839]),\n",
       "  array([ 0.90160183,  0.93735499,  0.92074592]),\n",
       "  array([ 0.96338673,  0.9675174 ,  0.96270396]),\n",
       "  array([ 0.97482838,  0.97679814,  0.98135198]),\n",
       "  array([ 0.98627002,  0.98839907,  0.99067599]),\n",
       "  array([ 0.98855835,  0.99071926,  0.99067599]),\n",
       "  array([ 0.98169336,  0.96519722,  0.94871795]),\n",
       "  array([ 0.24942792,  0.31554524,  0.22377622]),\n",
       "  array([ 0.10755149,  0.12064965,  0.1048951 ]),\n",
       "  array([ 0.10755149,  0.1087963 ,  0.10747664]),\n",
       "  array([ 0.2791762 ,  0.35185185,  0.30607477]),\n",
       "  array([ 0.91762014,  0.93518519,  0.92056075]),\n",
       "  array([ 0.96338673,  0.96296296,  0.96728972]),\n",
       "  array([ 0.98398169,  0.97685185,  0.98598131]),\n",
       "  array([ 0.98627002,  0.98148148,  0.98598131]),\n",
       "  array([ 0.99084668,  0.98611111,  0.98598131]),\n",
       "  array([ 0.97254005,  0.96759259,  0.96728972]),\n",
       "  array([ 0.24713959,  0.28703704,  0.25700935]),\n",
       "  array([ 0.10755149,  0.1087963 ,  0.10747664]),\n",
       "  array([ 0.10779817,  0.10854503,  0.10747664]),\n",
       "  array([ 0.27522936,  0.25866051,  0.35046729]),\n",
       "  array([ 0.92201835,  0.92378753,  0.90420561]),\n",
       "  array([ 0.96559633,  0.96073903,  0.96728972]),\n",
       "  array([ 0.97706422,  0.98152425,  0.97429907]),\n",
       "  array([ 0.98853211,  0.98845266,  0.98130841]),\n",
       "  array([ 0.99311927,  0.99538106,  0.98130841]),\n",
       "  array([ 0.94724771,  0.94226328,  0.96028037]),\n",
       "  array([ 0.18577982,  0.19630485,  0.19158879]),\n",
       "  array([ 0.11009174,  0.10854503,  0.10981308]),\n",
       "  array([ 0.21281465,  0.21064815,  0.20794393]),\n",
       "  array([ 0.42562929,  0.4212963 ,  0.44392523]),\n",
       "  array([ 0.91075515,  0.91898148,  0.9135514 ]),\n",
       "  array([ 0.95423341,  0.95833333,  0.96028037]),\n",
       "  array([ 0.9771167 ,  0.97916667,  0.98364486]),\n",
       "  array([ 0.98398169,  0.98611111,  0.98831776]),\n",
       "  array([ 0.99313501,  0.98842593,  0.99299065]),\n",
       "  array([ 0.9610984 ,  0.97916667,  0.96962617]),\n",
       "  array([ 0.28146453,  0.25231481,  0.26869159]),\n",
       "  array([ 0.11441648,  0.11805556,  0.11915888]),\n",
       "  array([ 0.10804598,  0.10648148,  0.10697674]),\n",
       "  array([ 0.31494253,  0.31481481,  0.41627907]),\n",
       "  array([ 0.92413793,  0.92824074,  0.91860465]),\n",
       "  array([ 0.96321839,  0.96296296,  0.96511628]),\n",
       "  array([ 0.96781609,  0.98148148,  0.97674419]),\n",
       "  array([ 0.97931034,  0.98842593,  0.97674419]),\n",
       "  array([ 0.98390805,  0.99074074,  0.97906977]),\n",
       "  array([ 0.95862069,  0.9837963 ,  0.96046512]),\n",
       "  array([ 0.3908046 ,  0.37268519,  0.28139535]),\n",
       "  array([ 0.10804598,  0.10648148,  0.10697674])])"
      ]
     },
     "execution_count": 15,
     "metadata": {},
     "output_type": "execute_result"
    }
   ],
   "source": [
    "split_number = 5\n",
    "rs = model_selection.ShuffleSplit(n_splits=split_number, test_size=500, random_state=0)\n",
    "gammas = np.logspace(-7, -1, 10)\n",
    "\n",
    "test_scores_gamma = []\n",
    "training_scores_gamma = []\n",
    "\n",
    "for training_indexes, test_indexes in rs.split(digits.data):\n",
    "    t_test_data = []\n",
    "    t_test_label = []\n",
    "    t_training_data = []\n",
    "    t_training_label = []\n",
    "    for test_index in test_indexes:\n",
    "        t_test_data.append(digits.data[test_index])\n",
    "        t_test_label.append(digits.target[test_index])\n",
    "        \n",
    "    for training_index in training_indexes:\n",
    "        t_training_data.append(digits.data[training_index])\n",
    "        t_training_label.append(digits.target[training_index])\n",
    "    for gamma in gammas:\n",
    "        clf = svm.SVC(gamma=gamma, C=10.0)\n",
    "        training_score = model_selection.cross_val_score(clf, t_training_data, t_training_label)\n",
    "        test_score = model_selection.cross_val_score(clf, t_test_data, t_test_label)\n",
    "        \n",
    "        test_scores_gamma.append(test_score)\n",
    "        training_scores_gamma.append(training_score)\n",
    "        \n",
    "gammas, test_scores_gamma, training_scores_gamma"
   ]
  },
  {
   "cell_type": "markdown",
   "metadata": {},
   "source": [
    "Plotten Sie die Treffergenauigkeitskurve für jeden Split mit dem Gammawert als Abszisse in einem gemeinsamen Diagramm, jeweils für die Trainings- und die Testdaten. Diese Kurven werden Validierungskurven genannt."
   ]
  },
  {
   "cell_type": "code",
   "execution_count": 37,
   "metadata": {
    "collapsed": false
   },
   "outputs": [
    {
     "data": {
      "image/png": "[encoded data removed]",
      "text/plain": [
       "<matplotlib.figure.Figure at 0x7fe5ef6f1198>"
      ]
     },
     "metadata": {},
     "output_type": "display_data"
    }
   ],
   "source": [
    "test_curves = []\n",
    "training_curves = []\n",
    "for index in range(0,split_number):\n",
    "    test_curves.append(pd.DataFrame(data=test_scores_gamma[index*len(gammas):(index+1)*len(gammas)], index = gammas))\n",
    "    training_curves.append(pd.DataFrame(data=training_scores_gamma[index*len(gammas):(index+1)*len(gammas)], index = gammas))\n",
    "    \n",
    "test_curves_mean=[]\n",
    "training_curves_mean=[]\n",
    "for test_curve, training_curve in zip(test_curves, training_curves):\n",
    "    test_curves_mean.append(test_curve.mean(axis=1))\n",
    "    training_curves_mean.append(training_curve.mean(axis=1))\n",
    "    \n",
    "test_curves_mean, training_curves_mean\n",
    "\n",
    "training_curves_mean[0].plot(xlim=(np.min(gammas),np.max(gammas)));\n",
    "#training_curves_mean[1].plot();\n",
    "#training_curves_mean[2].plot();\n",
    "#training_curves_mean[3].plot();\n",
    "#training_curves_mean[4].plot();\n",
    "#test_curves_mean[0].plot();\n",
    "#test_curves_mean[1].plot();\n",
    "#test_curves_mean[2].plot();\n",
    "#test_curves_mean[3].plot();\n",
    "#test_curves_mean[4].plot();"
   ]
  },
  {
   "cell_type": "markdown",
   "metadata": {},
   "source": [
    "Für welche Gammawerte erhalten Sie Underfitting, für welche Overfitting? Wo liegt der optimale Gammawert?"
   ]
  },
  {
   "cell_type": "code",
   "execution_count": null,
   "metadata": {
    "collapsed": true
   },
   "outputs": [],
   "source": []
  },
  {
   "cell_type": "markdown",
   "metadata": {},
   "source": [
    "### 2d)"
   ]
  },
  {
   "cell_type": "markdown",
   "metadata": {},
   "source": [
    "Die Gittersuche lässt sich ebenfalls automatisieren mit sklearn.model_selection. GridSearchCV(). Wir erzeugen dazu ein Gitter aus Wertepaaren für γ und C mit dem Dictionary\n",
    "\n",
    "    svc_params = {\n",
    "        ’C ’: np . logspace ( -1 , 2 , 4) ,\n",
    "        ’ gamma ’: np . logspace ( -4 , 0 , 5) ,\n",
    "    }\n",
    "\n",
    "Dieses Gitter kann direkt an GridSearchCV() als Argument param_grid übergeben werden. Da diese Prozedur sehr zeitaufwendig ist, verkleinern wie den Datensatz auf die ersten 500 Beispiele. Führen Sie für diesen verkleinerten Datensatz eine Gittersuche mithilfe von GridSearchCV() und jeweils 3 Splits (Parameter cv) durch. Den besten Parametersatz erhalten Sie mit GridSearchCV().best_params_, die höchste Treffergenauigkeit mit GridSearchCV().best_score_. Ausführliche Informationen zu jedem Parameterwertepaar stehen in dem Dictionary GridSearchCV().cv_results_."
   ]
  },
  {
   "cell_type": "code",
   "execution_count": null,
   "metadata": {
    "collapsed": true
   },
   "outputs": [],
   "source": []
  },
  {
   "cell_type": "markdown",
   "metadata": {},
   "source": [
    "Nach der Gittersuche führt GridSearchCV() noch ein Training auf dem gesamten Datensatz mit den besten Parametern durch, so dass die resultierende Maschine sofort eingesetzt werden kann. Testen Sie diese Maschine auf den übriggebliebenen Daten."
   ]
  },
  {
   "cell_type": "code",
   "execution_count": null,
   "metadata": {
    "collapsed": true
   },
   "outputs": [],
   "source": []
  },
  {
   "cell_type": "code",
   "execution_count": null,
   "metadata": {
    "collapsed": true
   },
   "outputs": [],
   "source": []
  },
  {
   "cell_type": "code",
   "execution_count": null,
   "metadata": {
    "collapsed": true
   },
   "outputs": [],
   "source": []
  },
  {
   "cell_type": "code",
   "execution_count": null,
   "metadata": {
    "collapsed": true
   },
   "outputs": [],
   "source": []
  },
  {
   "cell_type": "code",
   "execution_count": null,
   "metadata": {
    "collapsed": true
   },
   "outputs": [],
   "source": []
  },
  {
   "cell_type": "code",
   "execution_count": null,
   "metadata": {
    "collapsed": true
   },
   "outputs": [],
   "source": []
  },
  {
   "cell_type": "code",
   "execution_count": null,
   "metadata": {
    "collapsed": true
   },
   "outputs": [],
   "source": []
  },
  {
   "cell_type": "markdown",
   "metadata": {},
   "source": [
    "## Konfiguration"
   ]
  },
  {
   "cell_type": "code",
   "execution_count": 17,
   "metadata": {
    "collapsed": false
   },
   "outputs": [
    {
     "data": {
      "application/json": {
       "Software versions": [
        {
         "module": "Python",
         "version": "3.5.2 64bit [GCC 4.4.7 20120313 (Red Hat 4.4.7-1)]"
        },
        {
         "module": "IPython",
         "version": "5.1.0"
        },
        {
         "module": "OS",
         "version": "Linux 4.2.0 27 generic x86_64 with debian jessie sid"
        },
        {
         "module": "numpy",
         "version": "1.11.1"
        },
        {
         "module": "pandas",
         "version": "0.18.1"
        },
        {
         "module": "matplotlib",
         "version": "1.5.3"
        },
        {
         "module": "skimage",
         "version": "0.12.3"
        },
        {
         "module": "sklearn",
         "version": "0.18.1"
        }
       ]
      },
      "text/html": [
       "<table><tr><th>Software</th><th>Version</th></tr><tr><td>Python</td><td>3.5.2 64bit [GCC 4.4.7 20120313 (Red Hat 4.4.7-1)]</td></tr><tr><td>IPython</td><td>5.1.0</td></tr><tr><td>OS</td><td>Linux 4.2.0 27 generic x86_64 with debian jessie sid</td></tr><tr><td>numpy</td><td>1.11.1</td></tr><tr><td>pandas</td><td>0.18.1</td></tr><tr><td>matplotlib</td><td>1.5.3</td></tr><tr><td>skimage</td><td>0.12.3</td></tr><tr><td>sklearn</td><td>0.18.1</td></tr><tr><td colspan='2'>Tue Jan 03 22:11:19 2017 CET</td></tr></table>"
      ],
      "text/latex": [
       "\\begin{tabular}{|l|l|}\\hline\n",
       "{\\bf Software} & {\\bf Version} \\\\ \\hline\\hline\n",
       "Python & 3.5.2 64bit [GCC 4.4.7 20120313 (Red Hat 4.4.7-1)] \\\\ \\hline\n",
       "IPython & 5.1.0 \\\\ \\hline\n",
       "OS & Linux 4.2.0 27 generic x86\\_64 with debian jessie sid \\\\ \\hline\n",
       "numpy & 1.11.1 \\\\ \\hline\n",
       "pandas & 0.18.1 \\\\ \\hline\n",
       "matplotlib & 1.5.3 \\\\ \\hline\n",
       "skimage & 0.12.3 \\\\ \\hline\n",
       "sklearn & 0.18.1 \\\\ \\hline\n",
       "\\hline \\multicolumn{2}{|l|}{Tue Jan 03 22:11:19 2017 CET} \\\\ \\hline\n",
       "\\end{tabular}\n"
      ],
      "text/plain": [
       "Software versions\n",
       "Python 3.5.2 64bit [GCC 4.4.7 20120313 (Red Hat 4.4.7-1)]\n",
       "IPython 5.1.0\n",
       "OS Linux 4.2.0 27 generic x86_64 with debian jessie sid\n",
       "numpy 1.11.1\n",
       "pandas 0.18.1\n",
       "matplotlib 1.5.3\n",
       "skimage 0.12.3\n",
       "sklearn 0.18.1\n",
       "Tue Jan 03 22:11:19 2017 CET"
      ]
     },
     "execution_count": 17,
     "metadata": {},
     "output_type": "execute_result"
    }
   ],
   "source": [
    "%load_ext version_information\n",
    "%version_information numpy, pandas, matplotlib, skimage, sklearn"
   ]
  },
  {
   "cell_type": "code",
   "execution_count": null,
   "metadata": {
    "collapsed": true
   },
   "outputs": [],
   "source": []
  }
 ],
 "metadata": {
  "anaconda-cloud": {},
  "kernelspec": {
   "display_name": "Python 3",
   "language": "python",
   "name": "python3"
  },
  "language_info": {
   "codemirror_mode": {
    "name": "ipython",
    "version": 3
   },
   "file_extension": ".py",
   "mimetype": "text/x-python",
   "name": "python",
   "nbconvert_exporter": "python",
   "pygments_lexer": "ipython3",
   "version": "3.5.2"
  }
 },
 "nbformat": 4,
 "nbformat_minor": 1
}
