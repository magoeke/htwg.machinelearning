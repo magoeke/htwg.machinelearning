{
 "cells": [
  {
   "cell_type": "markdown",
   "metadata": {},
   "source": [
    "# Uebung 2"
   ]
  },
  {
   "cell_type": "markdown",
   "metadata": {},
   "source": [
    "# 2) Eigengesichter"
   ]
  },
  {
   "cell_type": "code",
   "execution_count": 118,
   "metadata": {
    "collapsed": true
   },
   "outputs": [],
   "source": [
    "import pandas as pd\n",
    "import numpy as np\n",
    "import matplotlib as mp\n",
    "import tarfile\n",
    "import os.path\n",
    "import urllib.request\n",
    "import skimage\n",
    "import scipy as sp"
   ]
  },
  {
   "cell_type": "markdown",
   "metadata": {},
   "source": [
    "## 2a) Bilder herunterladen und die meisten aussuchen"
   ]
  },
  {
   "cell_type": "code",
   "execution_count": 119,
   "metadata": {
    "collapsed": false
   },
   "outputs": [],
   "source": [
    "filename = \"lfw-funneled.tgz\"\n",
    "url = \"http://vis-www.cs.umass.edu/lfw/\" + filename\n",
    "if not os.path.isfile(filename):\n",
    "    urllib.request.urlretrieve(url, filename)\n",
    "    dateDownloaded = !date\n",
    "    print(dateDownloaded)"
   ]
  },
  {
   "cell_type": "code",
   "execution_count": 120,
   "metadata": {
    "collapsed": false
   },
   "outputs": [],
   "source": [
    "tar = tarfile.open(filename)\n",
    "tar.extractall()\n",
    "tar.close()\n",
    "foldername = \"lfw_funneled\""
   ]
  },
  {
   "cell_type": "code",
   "execution_count": 121,
   "metadata": {
    "collapsed": false
   },
   "outputs": [
    {
     "data": {
      "text/plain": [
       "dict_keys(['Hugo_Chavez', 'George_W_Bush', 'Tony_Blair', 'Colin_Powell', 'Gerhard_Schroeder', 'Donald_Rumsfeld', 'Ariel_Sharon'])"
      ]
     },
     "execution_count": 121,
     "metadata": {},
     "output_type": "execute_result"
    }
   ],
   "source": [
    "persons = {}\n",
    "for personName in os.listdir(foldername):\n",
    "    current_person = foldername + \"/\" + personName\n",
    "    if os.path.isdir(current_person):\n",
    "        if len(os.listdir(current_person)) >= 70:\n",
    "               persons.update({personName: [current_person +\"/\"+item for item in os.listdir(current_person)] })\n",
    "persons.keys()"
   ]
  },
  {
   "cell_type": "markdown",
   "metadata": {},
   "source": [
    "## 2b) Bilder einlesen und verkleinern"
   ]
  },
  {
   "cell_type": "code",
   "execution_count": 122,
   "metadata": {
    "collapsed": false
   },
   "outputs": [
    {
     "data": {
      "text/plain": [
       "((1281, 1024), (1281,), (7, 1024), (7,))"
      ]
     },
     "execution_count": 122,
     "metadata": {},
     "output_type": "execute_result"
    }
   ],
   "source": [
    "from skimage import io\n",
    "from skimage import transform\n",
    "\n",
    "resized_images = []\n",
    "resized_names = []\n",
    "resized_last_images = []\n",
    "resized_last_names = []\n",
    "\n",
    "for person_name, person in zip(persons.keys(), persons.values()):\n",
    "    path = person.copy()\n",
    "    #del path[-1]\n",
    "    for picture_path in path:\n",
    "        picture = io.imread(picture_path,  as_grey=True)\n",
    "        picture = picture[55:195, 75:175]\n",
    "        resized_image = transform.resize(picture, (32, 32)).flatten()\n",
    "        if not picture_path == path[-1]:\n",
    "            resized_images.append(resized_image)\n",
    "            resized_names.append(person_name)\n",
    "        else:\n",
    "            resized_last_images.append(resized_image)\n",
    "            resized_last_names.append(person_name)\n",
    "\n",
    "resized_images = np.array(resized_images)\n",
    "resized_names = np.array(resized_names)\n",
    "resized_last_images = np.array(resized_last_images)\n",
    "resized_last_names = np.array(resized_last_names)\n",
    "        \n",
    "resized_images.shape, resized_names.shape, resized_last_images.shape, resized_last_names.shape"
   ]
  },
  {
   "cell_type": "markdown",
   "metadata": {},
   "source": [
    "## 2c)  Hauptkomponentenanalyse anwenden"
   ]
  },
  {
   "cell_type": "code",
   "execution_count": 123,
   "metadata": {
    "collapsed": false
   },
   "outputs": [
    {
     "data": {
      "text/plain": [
       "((1281, 1281), (1024,), (1024, 1024))"
      ]
     },
     "execution_count": 123,
     "metadata": {},
     "output_type": "execute_result"
    }
   ],
   "source": [
    "training_data_mean = resized_images.mean(axis=0)\n",
    "centralized_training_data = resized_images.copy()\n",
    "centralized_training_data=centralized_training_data-training_data_mean\n",
    "\n",
    "U, D, Vt = np.linalg.svd(resized_images)\n",
    "U.shape, D.shape, Vt.shape"
   ]
  },
  {
   "cell_type": "markdown",
   "metadata": {},
   "source": [
    "Die ersten 150 Eigenwerte im Diagramm darstellen"
   ]
  },
  {
   "cell_type": "code",
   "execution_count": 124,
   "metadata": {
    "collapsed": false,
    "scrolled": false
   },
   "outputs": [
    {
     "name": "stdout",
     "output_type": "stream",
     "text": [
      "Populating the interactive namespace from numpy and matplotlib\n"
     ]
    },
    {
     "name": "stderr",
     "output_type": "stream",
     "text": [
      "/home/dyon/anaconda3/lib/python3.5/site-packages/IPython/core/magics/pylab.py:161: UserWarning: pylab import has clobbered these variables: ['dist']\n",
      "`%matplotlib` prevents importing * from pylab and numpy\n",
      "  \"\\n`%matplotlib` prevents importing * from pylab and numpy\"\n"
     ]
    },
    {
     "data": {
      "text/plain": [
       "<matplotlib.axes._subplots.AxesSubplot at 0x7f798e02ebe0>"
      ]
     },
     "execution_count": 124,
     "metadata": {},
     "output_type": "execute_result"
    },
    {
     "data": {
      "image/png": "[encoded data removed]",
      "text/plain": [
       "<matplotlib.figure.Figure at 0x7f798e024e48>"
      ]
     },
     "metadata": {},
     "output_type": "display_data"
    }
   ],
   "source": [
    "eigenvalues = np.square(D)\n",
    "eigen_values_dataframe = pd.DataFrame(eigenvalues[0:150])\n",
    "\n",
    "%pylab inline\n",
    "eigen_values_dataframe.plot(logy=True)"
   ]
  },
  {
   "cell_type": "markdown",
   "metadata": {},
   "source": [
    "Interpretation der Ergebnisse:\n",
    "\n",
    "Die Lösungen der Eigenwertgleichung der Kovarianzmatrix Σ Cq = λq sind also die Richtungen extremaler Varianz, die Eigenwerte geben die Varianz der Daten entlang dieser Richtungen an.\n",
    "\n",
    "Die ersten Eigenwerte haben die höchste Varianz und damit am meisten Informationsgehalt. Somit können alle weiteren Eigenwerte weggelassen werden, da sie fast keine zusätzliche Information liefern. Hauptkomponentenanalyse = Dimensionsreduktion."
   ]
  },
  {
   "cell_type": "markdown",
   "metadata": {},
   "source": [
    "Stelle die ersten 12 Eigengesichter durch Umformung der gestackten Darstellung in das ursprüngliche Bildformat\n",
    "dar."
   ]
  },
  {
   "cell_type": "code",
   "execution_count": 132,
   "metadata": {
    "collapsed": false
   },
   "outputs": [
    {
     "name": "stderr",
     "output_type": "stream",
     "text": [
      "/home/dyon/anaconda3/lib/python3.5/site-packages/numpy/core/fromnumeric.py:225: VisibleDeprecationWarning: using a non-integer number instead of an integer will result in an error in the future\n",
      "  return reshape(newshape, order=order)\n"
     ]
    },
    {
     "data": {
      "image/png": "[encoded data removed]",
      "text/plain": [
       "<matplotlib.figure.Figure at 0x7f797c0eff28>"
      ]
     },
     "metadata": {},
     "output_type": "display_data"
    }
   ],
   "source": [
    "%matplotlib inline\n",
    "fig = plt.figure()\n",
    "for i, eigen_face in enumerate(Vt[:12], start=1):\n",
    "    plt.subplot(4, 3, i)\n",
    "    plt.tight_layout()\n",
    "    dim = np.sqrt(np.shape(eigen_face))\n",
    "    plt.imshow(np.reshape(eigen_face, (dim, dim)), cmap=plt.gray())\n",
    "plt.show();"
   ]
  },
  {
   "cell_type": "markdown",
   "metadata": {},
   "source": [
    "## 2d) Gesichtserkennung"
   ]
  },
  {
   "cell_type": "markdown",
   "metadata": {},
   "source": [
    "Von den Testbildern wird nun ebenfalls der Mittelwert der Trainingsdaten abgezogen (s. Schritt 1 im Algorithmus)"
   ]
  },
  {
   "cell_type": "code",
   "execution_count": 126,
   "metadata": {
    "collapsed": true
   },
   "outputs": [],
   "source": [
    "centralized_test_data = resized_last_images.copy()\n",
    "centralized_test_data=centralized_test_data-training_data_mean"
   ]
  },
  {
   "cell_type": "markdown",
   "metadata": {},
   "source": [
    "Projizieren Sie jedes der Trainings- und Testbilder auf die ersten 7 Eigengesichter, d.h. Sie erhalten so für jedes Trainings- und Testbild 7 Merkmale"
   ]
  },
  {
   "cell_type": "code",
   "execution_count": 127,
   "metadata": {
    "collapsed": false
   },
   "outputs": [
    {
     "data": {
      "text/plain": [
       "((7, 7), (1281, 7))"
      ]
     },
     "execution_count": 127,
     "metadata": {},
     "output_type": "execute_result"
    }
   ],
   "source": [
    "test_images = np.dot(Vt[:7], centralized_test_data.T).T\n",
    "training_images = np.dot(Vt[:7], centralized_training_data.T).T\n",
    "#maybe eigenvalues instead of Vt\n",
    "test_images.shape, training_images.shape"
   ]
  },
  {
   "cell_type": "markdown",
   "metadata": {},
   "source": [
    "Die Gesichtserkennung geschieht nun dadurch, dass Sie den euklidischen Abstand des Testbildes in diesem 7-dimensionalen Merkmalsraum zu allen Trainingsbildern berechnen"
   ]
  },
  {
   "cell_type": "code",
   "execution_count": 128,
   "metadata": {
    "collapsed": false
   },
   "outputs": [
    {
     "data": {
      "text/plain": [
       "{'Ariel_Sharon': {'Ariel_Sharon': 2.716612567643841,\n",
       "  'Colin_Powell': 4.0256212025133715,\n",
       "  'Donald_Rumsfeld': 8.628127547739286,\n",
       "  'George_W_Bush': 5.381268703857523,\n",
       "  'Gerhard_Schroeder': 4.749451362917078,\n",
       "  'Hugo_Chavez': 6.2639992385888075,\n",
       "  'Tony_Blair': 6.095500550314944},\n",
       " 'Colin_Powell': {'Ariel_Sharon': 3.205497391290122,\n",
       "  'Colin_Powell': 3.6388504841372384,\n",
       "  'Donald_Rumsfeld': 8.985606563109249,\n",
       "  'George_W_Bush': 4.498093931302551,\n",
       "  'Gerhard_Schroeder': 4.1903633553558075,\n",
       "  'Hugo_Chavez': 4.340124291472935,\n",
       "  'Tony_Blair': 5.871177936289736},\n",
       " 'Donald_Rumsfeld': {'Ariel_Sharon': 5.365119815237885,\n",
       "  'Colin_Powell': 5.1017145934703665,\n",
       "  'Donald_Rumsfeld': 8.4195606516279,\n",
       "  'George_W_Bush': 3.5773742852442463,\n",
       "  'Gerhard_Schroeder': 3.1050931999130937,\n",
       "  'Hugo_Chavez': 5.2050375052170885,\n",
       "  'Tony_Blair': 7.427978573403165},\n",
       " 'George_W_Bush': {'Ariel_Sharon': 5.274676946971121,\n",
       "  'Colin_Powell': 6.620137444567145,\n",
       "  'Donald_Rumsfeld': 5.69946518716322,\n",
       "  'George_W_Bush': 4.510953548186469,\n",
       "  'Gerhard_Schroeder': 4.7392499340331415,\n",
       "  'Hugo_Chavez': 5.117386914749813,\n",
       "  'Tony_Blair': 7.1491253237649035},\n",
       " 'Gerhard_Schroeder': {'Ariel_Sharon': 5.8794043753601795,\n",
       "  'Colin_Powell': 4.713615732115994,\n",
       "  'Donald_Rumsfeld': 10.098607823107717,\n",
       "  'George_W_Bush': 2.8231897416253946,\n",
       "  'Gerhard_Schroeder': 3.4622345264841066,\n",
       "  'Hugo_Chavez': 4.745793641477433,\n",
       "  'Tony_Blair': 7.723052937654826},\n",
       " 'Hugo_Chavez': {'Ariel_Sharon': 6.464511794088366,\n",
       "  'Colin_Powell': 4.682576804535577,\n",
       "  'Donald_Rumsfeld': 10.313612836748314,\n",
       "  'George_W_Bush': 3.8906607234299933,\n",
       "  'Gerhard_Schroeder': 5.061791740146441,\n",
       "  'Hugo_Chavez': 1.866275236502763,\n",
       "  'Tony_Blair': 6.359355781392036},\n",
       " 'Tony_Blair': {'Ariel_Sharon': 6.012053889330354,\n",
       "  'Colin_Powell': 5.441170045871581,\n",
       "  'Donald_Rumsfeld': 6.315154502593859,\n",
       "  'George_W_Bush': 2.7006042199018534,\n",
       "  'Gerhard_Schroeder': 3.3607494915834777,\n",
       "  'Hugo_Chavez': 4.20669963153018,\n",
       "  'Tony_Blair': 6.016086335230576}}"
      ]
     },
     "execution_count": 128,
     "metadata": {},
     "output_type": "execute_result"
    }
   ],
   "source": [
    "#distances{test_name:{training_name:[]}}\n",
    "distances={}\n",
    "for test_image, test_name in zip(test_images, resized_last_names):\n",
    "    dists = {}\n",
    "    for training_image, training_name in zip(training_images, resized_names):\n",
    "        dist = sp.spatial.distance.euclidean(test_image, training_image)\n",
    "        dists.update({training_name:dist})\n",
    "    distances.update({test_name: dists})\n",
    "distances"
   ]
  },
  {
   "cell_type": "markdown",
   "metadata": {},
   "source": [
    "Die Person des am nächsten liegenden Trainingsbildes (d.h. mit dem minimalen euklidischen Abstand) ist dann (vermutlich) auch die korrekte Person für das Testbild (Nächster-Nachbar-Klassifikator)\n",
    "Welche Bilder werden korrekt klassifiziert, welche Verwechslungen gibt es?"
   ]
  },
  {
   "cell_type": "code",
   "execution_count": 129,
   "metadata": {
    "collapsed": false
   },
   "outputs": [
    {
     "name": "stdout",
     "output_type": "stream",
     "text": [
      "Hugo_Chavez  ->  Hugo_Chavez\n",
      "George_W_Bush  ->  George_W_Bush\n",
      "Tony_Blair  ->  George_W_Bush\n",
      "Colin_Powell  ->  Ariel_Sharon\n",
      "Gerhard_Schroeder  ->  George_W_Bush\n",
      "Ariel_Sharon  ->  Ariel_Sharon\n",
      "Donald_Rumsfeld  ->  Gerhard_Schroeder\n"
     ]
    }
   ],
   "source": [
    "for key, value in distances.items():\n",
    "    #print(key)\n",
    "    #print (value)\n",
    "    b = dict(map(lambda item: (item[1],item[0]),value.items()))\n",
    "    min_key = b[min(b.keys())]\n",
    "    print(key,\" -> \", min_key)\n"
   ]
  },
  {
   "cell_type": "markdown",
   "metadata": {},
   "source": [
    "# Konfiguration"
   ]
  },
  {
   "cell_type": "code",
   "execution_count": 130,
   "metadata": {
    "collapsed": false
   },
   "outputs": [
    {
     "name": "stdout",
     "output_type": "stream",
     "text": [
      "The version_information extension is already loaded. To reload it, use:\n",
      "  %reload_ext version_information\n"
     ]
    },
    {
     "data": {
      "application/json": {
       "Software versions": [
        {
         "module": "Python",
         "version": "3.5.2 64bit [GCC 4.4.7 20120313 (Red Hat 4.4.7-1)]"
        },
        {
         "module": "IPython",
         "version": "5.1.0"
        },
        {
         "module": "OS",
         "version": "Linux 4.2.0 27 generic x86_64 with debian jessie sid"
        },
        {
         "module": "numpy",
         "version": "1.11.1"
        },
        {
         "module": "pandas",
         "version": "0.18.1"
        },
        {
         "module": "matplotlib",
         "version": "1.5.3"
        },
        {
         "module": "skimage",
         "version": "0.12.3"
        }
       ]
      },
      "text/html": [
       "<table><tr><th>Software</th><th>Version</th></tr><tr><td>Python</td><td>3.5.2 64bit [GCC 4.4.7 20120313 (Red Hat 4.4.7-1)]</td></tr><tr><td>IPython</td><td>5.1.0</td></tr><tr><td>OS</td><td>Linux 4.2.0 27 generic x86_64 with debian jessie sid</td></tr><tr><td>numpy</td><td>1.11.1</td></tr><tr><td>pandas</td><td>0.18.1</td></tr><tr><td>matplotlib</td><td>1.5.3</td></tr><tr><td>skimage</td><td>0.12.3</td></tr><tr><td colspan='2'>Sat Nov 19 18:12:34 2016 CET</td></tr></table>"
      ],
      "text/latex": [
       "\\begin{tabular}{|l|l|}\\hline\n",
       "{\\bf Software} & {\\bf Version} \\\\ \\hline\\hline\n",
       "Python & 3.5.2 64bit [GCC 4.4.7 20120313 (Red Hat 4.4.7-1)] \\\\ \\hline\n",
       "IPython & 5.1.0 \\\\ \\hline\n",
       "OS & Linux 4.2.0 27 generic x86\\_64 with debian jessie sid \\\\ \\hline\n",
       "numpy & 1.11.1 \\\\ \\hline\n",
       "pandas & 0.18.1 \\\\ \\hline\n",
       "matplotlib & 1.5.3 \\\\ \\hline\n",
       "skimage & 0.12.3 \\\\ \\hline\n",
       "\\hline \\multicolumn{2}{|l|}{Sat Nov 19 18:12:34 2016 CET} \\\\ \\hline\n",
       "\\end{tabular}\n"
      ],
      "text/plain": [
       "Software versions\n",
       "Python 3.5.2 64bit [GCC 4.4.7 20120313 (Red Hat 4.4.7-1)]\n",
       "IPython 5.1.0\n",
       "OS Linux 4.2.0 27 generic x86_64 with debian jessie sid\n",
       "numpy 1.11.1\n",
       "pandas 0.18.1\n",
       "matplotlib 1.5.3\n",
       "skimage 0.12.3\n",
       "Sat Nov 19 18:12:34 2016 CET"
      ]
     },
     "execution_count": 130,
     "metadata": {},
     "output_type": "execute_result"
    }
   ],
   "source": [
    "%load_ext version_information\n",
    "%version_information numpy, pandas, matplotlib, skimage"
   ]
  }
 ],
 "metadata": {
  "anaconda-cloud": {},
  "kernelspec": {
   "display_name": "Python [default]",
   "language": "python",
   "name": "python3"
  },
  "language_info": {
   "codemirror_mode": {
    "name": "ipython",
    "version": 3
   },
   "file_extension": ".py",
   "mimetype": "text/x-python",
   "name": "python",
   "nbconvert_exporter": "python",
   "pygments_lexer": "ipython3",
   "version": "3.5.2"
  }
 },
 "nbformat": 4,
 "nbformat_minor": 0
}
